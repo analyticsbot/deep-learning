{
 "cells": [
  {
   "cell_type": "code",
   "execution_count": 46,
   "metadata": {},
   "outputs": [],
   "source": [
    "from elasticsearch import Elasticsearch, helpers\n",
    "import pandas as pd\n",
    "import ast"
   ]
  },
  {
   "cell_type": "code",
   "execution_count": 2,
   "metadata": {},
   "outputs": [],
   "source": [
    "# to get indices - curl -u elastic:elastic -X GET \"http://localhost:9200/_cat/indices?v\"\n",
    "# to check auth - curl -u elastic:elastic -X GET \"http://localhost:9200/\"\n",
    "# docker run --name elasticsearch -p 9200:9200 -e \"discovery.type=single-node\"  -e \"ELASTIC_PASSWORD=elastic\"  -e \"xpack.security.enabled=false\"  -e \"ES_JAVA_OPTS=-Xms2g -Xmx2g\" -v data:/usr/share/elasticsearch/data elasticsearch:8.4.2 "
   ]
  },
  {
   "cell_type": "code",
   "execution_count": 30,
   "metadata": {},
   "outputs": [
    {
     "name": "stderr",
     "output_type": "stream",
     "text": [
      "/var/folders/c8/fll6dgp97mnd842vr2qlbjr80000gr/T/ipykernel_66388/3071396293.py:2: DeprecationWarning: The 'timeout' parameter is deprecated in favor of 'request_timeout'\n",
      "  es = Elasticsearch(hosts=[\"http://localhost:9200\"], timeout=600, http_auth=('elastic', 'elastic'))\n",
      "/var/folders/c8/fll6dgp97mnd842vr2qlbjr80000gr/T/ipykernel_66388/3071396293.py:2: DeprecationWarning: The 'http_auth' parameter is deprecated. Use 'basic_auth' or 'bearer_auth' parameters instead\n",
      "  es = Elasticsearch(hosts=[\"http://localhost:9200\"], timeout=600, http_auth=('elastic', 'elastic'))\n"
     ]
    }
   ],
   "source": [
    "# Initialize Elasticsearch client\n",
    "es = Elasticsearch(hosts=[\"http://localhost:9200\"], timeout=600, http_auth=('elastic', 'elastic'))"
   ]
  },
  {
   "cell_type": "code",
   "execution_count": 31,
   "metadata": {},
   "outputs": [
    {
     "data": {
      "text/plain": [
       "ObjectApiResponse({'cluster_name': 'docker-cluster', 'status': 'green', 'timed_out': False, 'number_of_nodes': 1, 'number_of_data_nodes': 1, 'active_primary_shards': 0, 'active_shards': 0, 'relocating_shards': 0, 'initializing_shards': 0, 'unassigned_shards': 0, 'delayed_unassigned_shards': 0, 'number_of_pending_tasks': 0, 'number_of_in_flight_fetch': 0, 'task_max_waiting_in_queue_millis': 0, 'active_shards_percent_as_number': 100.0})"
      ]
     },
     "execution_count": 31,
     "metadata": {},
     "output_type": "execute_result"
    }
   ],
   "source": [
    "# Check Cluster Health\n",
    "es.cluster.health()"
   ]
  },
  {
   "cell_type": "code",
   "execution_count": 32,
   "metadata": {},
   "outputs": [],
   "source": [
    "index_name = 'es_index'\n",
    "\n",
    "if not es.indices.exists(index=index_name):\n",
    "        es.indices.create(index=index_name)\n",
    "        es.indices.put_settings(index=\"es_index\", body={\n",
    "            \"index\": {\n",
    "                \"number_of_replicas\": 0\n",
    "            }\n",
    "        })\n"
   ]
  },
  {
   "cell_type": "code",
   "execution_count": 33,
   "metadata": {},
   "outputs": [
    {
     "data": {
      "text/plain": [
       "ObjectApiResponse({'cluster_name': 'docker-cluster', 'status': 'red', 'timed_out': False, 'number_of_nodes': 1, 'number_of_data_nodes': 1, 'active_primary_shards': 0, 'active_shards': 0, 'relocating_shards': 0, 'initializing_shards': 0, 'unassigned_shards': 1, 'delayed_unassigned_shards': 0, 'number_of_pending_tasks': 0, 'number_of_in_flight_fetch': 0, 'task_max_waiting_in_queue_millis': 0, 'active_shards_percent_as_number': 0.0})"
      ]
     },
     "execution_count": 33,
     "metadata": {},
     "output_type": "execute_result"
    }
   ],
   "source": [
    "# Check Cluster Health\n",
    "es.cluster.health()"
   ]
  },
  {
   "cell_type": "code",
   "execution_count": 34,
   "metadata": {},
   "outputs": [
    {
     "data": {
      "text/plain": [
       "ObjectApiResponse({'acknowledged': True, 'persistent': {}, 'transient': {'cluster': {'routing': {'allocation': {'allow_rebalance': 'always', 'disk': {'threshold_enabled': 'false'}, 'enable': 'all'}}}}})"
      ]
     },
     "execution_count": 34,
     "metadata": {},
     "output_type": "execute_result"
    }
   ],
   "source": [
    "es.cluster.put_settings(body={\n",
    "    \"transient\": {\n",
    "        \"cluster.routing.allocation.enable\": \"all\",\n",
    "        \"cluster.routing.allocation.allow_rebalance\": \"always\",\n",
    "        \"cluster.routing.allocation.disk.threshold_enabled\": False\n",
    "    }\n",
    "})\n"
   ]
  },
  {
   "cell_type": "code",
   "execution_count": 36,
   "metadata": {},
   "outputs": [
    {
     "data": {
      "text/plain": [
       "ObjectApiResponse({'cluster_name': 'docker-cluster', 'status': 'green', 'timed_out': False, 'number_of_nodes': 1, 'number_of_data_nodes': 1, 'active_primary_shards': 1, 'active_shards': 1, 'relocating_shards': 0, 'initializing_shards': 0, 'unassigned_shards': 0, 'delayed_unassigned_shards': 0, 'number_of_pending_tasks': 0, 'number_of_in_flight_fetch': 0, 'task_max_waiting_in_queue_millis': 0, 'active_shards_percent_as_number': 100.0})"
      ]
     },
     "execution_count": 36,
     "metadata": {},
     "output_type": "execute_result"
    }
   ],
   "source": [
    "# Check Cluster Health\n",
    "es.cluster.health()"
   ]
  },
  {
   "cell_type": "code",
   "execution_count": 9,
   "metadata": {},
   "outputs": [
    {
     "data": {
      "text/plain": [
       "True"
      ]
     },
     "execution_count": 9,
     "metadata": {},
     "output_type": "execute_result"
    }
   ],
   "source": [
    "# Verify Connection\n",
    "es.ping()"
   ]
  },
  {
   "cell_type": "code",
   "execution_count": 10,
   "metadata": {},
   "outputs": [
    {
     "data": {
      "text/plain": [
       "ObjectApiResponse({'name': 'a8b18fad6465', 'cluster_name': 'docker-cluster', 'cluster_uuid': 'ANxuoLsaSuapfr-Z78fnmg', 'version': {'number': '8.4.2', 'build_flavor': 'default', 'build_type': 'docker', 'build_hash': '89f8c6d8429db93b816403ee75e5c270b43a940a', 'build_date': '2022-09-14T16:26:04.382547801Z', 'build_snapshot': False, 'lucene_version': '9.3.0', 'minimum_wire_compatibility_version': '7.17.0', 'minimum_index_compatibility_version': '7.0.0'}, 'tagline': 'You Know, for Search'})"
      ]
     },
     "execution_count": 10,
     "metadata": {},
     "output_type": "execute_result"
    }
   ],
   "source": [
    "# Get Cluster Information\n",
    "es.info()\n"
   ]
  },
  {
   "cell_type": "code",
   "execution_count": 37,
   "metadata": {},
   "outputs": [
    {
     "data": {
      "text/plain": [
       "ObjectApiResponse({'es_index': {'aliases': {}}})"
      ]
     },
     "execution_count": 37,
     "metadata": {},
     "output_type": "execute_result"
    }
   ],
   "source": [
    "# List All Indices\n",
    "es.indices.get_alias(index=\"*\")"
   ]
  },
  {
   "cell_type": "code",
   "execution_count": 12,
   "metadata": {},
   "outputs": [],
   "source": [
    "meta_file_path = '/Users/rshankar/Downloads/Projects/deep-learning/amazon-search-recommend/data/Digital_Music_Meta.csv'\n",
    "digital_music_meta_df = pd.read_csv(meta_file_path)"
   ]
  },
  {
   "cell_type": "code",
   "execution_count": null,
   "metadata": {},
   "outputs": [],
   "source": []
  },
  {
   "cell_type": "code",
   "execution_count": 38,
   "metadata": {},
   "outputs": [
    {
     "data": {
      "text/plain": [
       "ObjectApiResponse({'es_index': {'aliases': {}}})"
      ]
     },
     "execution_count": 38,
     "metadata": {},
     "output_type": "execute_result"
    }
   ],
   "source": [
    "# List All Indices\n",
    "es.indices.get_alias(index=\"*\")"
   ]
  },
  {
   "cell_type": "code",
   "execution_count": 19,
   "metadata": {},
   "outputs": [
    {
     "data": {
      "text/html": [
       "<div>\n",
       "<style scoped>\n",
       "    .dataframe tbody tr th:only-of-type {\n",
       "        vertical-align: middle;\n",
       "    }\n",
       "\n",
       "    .dataframe tbody tr th {\n",
       "        vertical-align: top;\n",
       "    }\n",
       "\n",
       "    .dataframe thead th {\n",
       "        text-align: right;\n",
       "    }\n",
       "</style>\n",
       "<table border=\"1\" class=\"dataframe\">\n",
       "  <thead>\n",
       "    <tr style=\"text-align: right;\">\n",
       "      <th></th>\n",
       "      <th>main_category</th>\n",
       "      <th>title</th>\n",
       "      <th>average_rating</th>\n",
       "      <th>rating_number</th>\n",
       "      <th>features</th>\n",
       "      <th>description</th>\n",
       "      <th>price</th>\n",
       "      <th>images</th>\n",
       "      <th>videos</th>\n",
       "      <th>store</th>\n",
       "      <th>categories</th>\n",
       "      <th>details</th>\n",
       "      <th>parent_asin</th>\n",
       "      <th>bought_together</th>\n",
       "    </tr>\n",
       "  </thead>\n",
       "  <tbody>\n",
       "    <tr>\n",
       "      <th>0</th>\n",
       "      <td>Digital Music</td>\n",
       "      <td>Baja Marimba Band</td>\n",
       "      <td>4.9</td>\n",
       "      <td>8</td>\n",
       "      <td>[]</td>\n",
       "      <td>[]</td>\n",
       "      <td>NaN</td>\n",
       "      <td>[{'thumb': 'https://m.media-amazon.com/images/...</td>\n",
       "      <td>[]</td>\n",
       "      <td>NaN</td>\n",
       "      <td>[]</td>\n",
       "      <td>{'Date First Available': 'February 28, 2010'}</td>\n",
       "      <td>B000V87RP2</td>\n",
       "      <td>NaN</td>\n",
       "    </tr>\n",
       "    <tr>\n",
       "      <th>1</th>\n",
       "      <td>Digital Music</td>\n",
       "      <td>'80s Halloween-All Original Artists &amp; Recordings</td>\n",
       "      <td>5.0</td>\n",
       "      <td>3</td>\n",
       "      <td>[]</td>\n",
       "      <td>[]</td>\n",
       "      <td>14.98</td>\n",
       "      <td>[{'thumb': 'https://m.media-amazon.com/images/...</td>\n",
       "      <td>[]</td>\n",
       "      <td>Love and Rockets  (Artist),     Duran Duran  (...</td>\n",
       "      <td>[]</td>\n",
       "      <td>{'Package Dimensions': '5.55 x 4.97 x 0.54 inc...</td>\n",
       "      <td>B0062F0MJQ</td>\n",
       "      <td>NaN</td>\n",
       "    </tr>\n",
       "  </tbody>\n",
       "</table>\n",
       "</div>"
      ],
      "text/plain": [
       "   main_category                                             title  \\\n",
       "0  Digital Music                                 Baja Marimba Band   \n",
       "1  Digital Music  '80s Halloween-All Original Artists & Recordings   \n",
       "\n",
       "   average_rating  rating_number features description  price  \\\n",
       "0             4.9              8       []          []    NaN   \n",
       "1             5.0              3       []          []  14.98   \n",
       "\n",
       "                                              images videos  \\\n",
       "0  [{'thumb': 'https://m.media-amazon.com/images/...     []   \n",
       "1  [{'thumb': 'https://m.media-amazon.com/images/...     []   \n",
       "\n",
       "                                               store categories  \\\n",
       "0                                                NaN         []   \n",
       "1  Love and Rockets  (Artist),     Duran Duran  (...         []   \n",
       "\n",
       "                                             details parent_asin  \\\n",
       "0      {'Date First Available': 'February 28, 2010'}  B000V87RP2   \n",
       "1  {'Package Dimensions': '5.55 x 4.97 x 0.54 inc...  B0062F0MJQ   \n",
       "\n",
       "   bought_together  \n",
       "0              NaN  \n",
       "1              NaN  "
      ]
     },
     "execution_count": 19,
     "metadata": {},
     "output_type": "execute_result"
    }
   ],
   "source": [
    "digital_music_meta_df.head(2)"
   ]
  },
  {
   "cell_type": "code",
   "execution_count": 21,
   "metadata": {},
   "outputs": [
    {
     "data": {
      "text/plain": [
       "main_category          0\n",
       "title                  7\n",
       "average_rating         0\n",
       "rating_number          0\n",
       "features               0\n",
       "description            0\n",
       "price              30412\n",
       "images                 0\n",
       "videos                 0\n",
       "store               4238\n",
       "categories             0\n",
       "details                0\n",
       "parent_asin            0\n",
       "bought_together    70537\n",
       "dtype: int64"
      ]
     },
     "execution_count": 21,
     "metadata": {},
     "output_type": "execute_result"
    }
   ],
   "source": [
    "digital_music_meta_df.isna().sum()"
   ]
  },
  {
   "cell_type": "code",
   "execution_count": 22,
   "metadata": {},
   "outputs": [
    {
     "name": "stderr",
     "output_type": "stream",
     "text": [
      "/var/folders/c8/fll6dgp97mnd842vr2qlbjr80000gr/T/ipykernel_66388/2364569514.py:1: FutureWarning: Setting an item of incompatible dtype is deprecated and will raise an error in a future version of pandas. Value '' has dtype incompatible with float64, please explicitly cast to a compatible dtype first.\n",
      "  digital_music_meta_df.fillna('', inplace=True)\n"
     ]
    }
   ],
   "source": [
    "digital_music_meta_df.fillna('', inplace=True)"
   ]
  },
  {
   "cell_type": "code",
   "execution_count": 49,
   "metadata": {},
   "outputs": [],
   "source": [
    "# Prepare documents for indexing\n",
    "# Prepare documents for indexing\n",
    "actions = [\n",
    "    {\n",
    "        \"_index\": index_name,\n",
    "        \"_id\": str(i),\n",
    "        \"_source\": {\n",
    "            \"title\": row['title'],\n",
    "            \"description\": row['description'],\n",
    "            \"images\": row['images'],\n",
    "            \"average_rating\": row['average_rating'],\n",
    "            \"rating_number\": row['rating_number'],\n",
    "            \"price\": f\"${float(row['price']):.2f}\" if pd.notna(row['price']) and isinstance(row['price'], (int, float, str)) and str(row['price']).replace('.', '', 1).isdigit() else \"Price not available\",\n",
    "            \"details\": {key: value for key, value in ast.literal_eval(row['details']).items() if key.strip()} or {\"Not Available\": \"Not Available\"},\n",
    "            \"main_category\": row['main_category'] if pd.notna(row['main_category']) and row['main_category'].strip() else \"Not Available\"\n",
    "\n",
    "\n",
    "        }\n",
    "    }\n",
    "    for i, row in digital_music_meta_df.iterrows()\n",
    "]\n",
    "\n",
    "from elasticsearch.helpers import BulkIndexError\n",
    "\n",
    "try:\n",
    "    helpers.bulk(es, actions)\n",
    "except BulkIndexError as e:\n",
    "    for error in e.errors:\n",
    "        print(error)\n"
   ]
  },
  {
   "cell_type": "code",
   "execution_count": 16,
   "metadata": {},
   "outputs": [
    {
     "data": {
      "text/plain": [
       "TextApiResponse('es_index 0 p STARTED \\n')"
      ]
     },
     "execution_count": 16,
     "metadata": {},
     "output_type": "execute_result"
    }
   ],
   "source": [
    "es.cat.shards(index=\"es_index\", h=[\"index\", \"shard\", \"prirep\", \"state\", \"unassigned.reason\"])"
   ]
  },
  {
   "cell_type": "code",
   "execution_count": 67,
   "metadata": {},
   "outputs": [
    {
     "data": {
      "text/plain": [
       "ObjectApiResponse({'cluster_name': 'docker-cluster', 'status': 'green', 'timed_out': False, 'number_of_nodes': 1, 'number_of_data_nodes': 1, 'active_primary_shards': 1, 'active_shards': 1, 'relocating_shards': 0, 'initializing_shards': 0, 'unassigned_shards': 0, 'delayed_unassigned_shards': 0, 'number_of_pending_tasks': 0, 'number_of_in_flight_fetch': 0, 'task_max_waiting_in_queue_millis': 0, 'active_shards_percent_as_number': 100.0})"
      ]
     },
     "execution_count": 67,
     "metadata": {},
     "output_type": "execute_result"
    }
   ],
   "source": [
    "es.cluster.health()"
   ]
  },
  {
   "cell_type": "code",
   "execution_count": 26,
   "metadata": {},
   "outputs": [
    {
     "data": {
      "text/plain": [
       "ObjectApiResponse({'acknowledged': True, 'persistent': {}, 'transient': {'cluster': {'routing': {'allocation': {'allow_rebalance': 'always', 'disk': {'threshold_enabled': 'false'}, 'enable': 'all'}}}}})"
      ]
     },
     "execution_count": 26,
     "metadata": {},
     "output_type": "execute_result"
    }
   ],
   "source": [
    "es.cluster.put_settings(body={\n",
    "    \"transient\": {\n",
    "        \"cluster.routing.allocation.enable\": \"all\",\n",
    "        \"cluster.routing.allocation.allow_rebalance\": \"always\",\n",
    "        \"cluster.routing.allocation.disk.threshold_enabled\": False  # Temporarily disable disk thresholds\n",
    "    }\n",
    "})\n"
   ]
  },
  {
   "cell_type": "code",
   "execution_count": 50,
   "metadata": {},
   "outputs": [
    {
     "name": "stderr",
     "output_type": "stream",
     "text": [
      "/var/folders/c8/fll6dgp97mnd842vr2qlbjr80000gr/T/ipykernel_66388/3972522728.py:1: DeprecationWarning: Passing transport options in the API method is deprecated. Use 'Elasticsearch.options()' instead.\n",
      "  es.indices.delete(index=\"es_index\", ignore=[400, 404])\n"
     ]
    },
    {
     "data": {
      "text/plain": [
       "ObjectApiResponse({'acknowledged': True})"
      ]
     },
     "execution_count": 50,
     "metadata": {},
     "output_type": "execute_result"
    }
   ],
   "source": [
    "es.indices.delete(index=\"es_index\", ignore=[400, 404])"
   ]
  },
  {
   "cell_type": "code",
   "execution_count": 24,
   "metadata": {},
   "outputs": [
    {
     "name": "stderr",
     "output_type": "stream",
     "text": [
      "/var/folders/c8/fll6dgp97mnd842vr2qlbjr80000gr/T/ipykernel_66388/1597339106.py:22: DeprecationWarning: Received 'size' via a specific parameter in the presence of a 'body' parameter, which is deprecated and will be removed in a future version. Instead, use only 'body' or only specific parameters.\n",
      "  response = es.search(index=index_name, body=body, size=top_n)\n"
     ]
    }
   ],
   "source": [
    "query = 'data'\n",
    "body = {\n",
    "        \"query\": {\n",
    "            \"bool\": {\n",
    "                \"should\": [\n",
    "                    {\n",
    "                        \"match\": {\n",
    "                            \"title\": query  # Match against the title field\n",
    "                        }\n",
    "                    },\n",
    "                    {\n",
    "                        \"match\": {\n",
    "                            \"description\": query  # Match against the description field\n",
    "                        }\n",
    "                    }\n",
    "                ]\n",
    "            }\n",
    "        }\n",
    "    }\n",
    "    \n",
    "top_n = 5\n",
    "response = es.search(index=index_name, body=body, size=top_n)\n",
    "docs = response['hits']['hits']  # List of matched documents"
   ]
  },
  {
   "cell_type": "code",
   "execution_count": 25,
   "metadata": {},
   "outputs": [
    {
     "data": {
      "text/plain": [
       "[{'_index': 'es_index',\n",
       "  '_id': '16616',\n",
       "  '_score': 12.917667,\n",
       "  '_source': {'title': 'Data Lords',\n",
       "   'description': \"['2 CD set includes hi-res download card and lots of other extras']\",\n",
       "   'image': \"[{'thumb': 'https://m.media-amazon.com/images/I/51gJniZBoZL._SS40_.jpg', 'large': 'https://m.media-amazon.com/images/I/51gJniZBoZL.jpg', 'variant': 'MAIN', 'hi_res': 'https://m.media-amazon.com/images/I/71faHARZn2L._SL1500_.jpg'}]\",\n",
       "   'rating': 4.6}},\n",
       " {'_index': 'es_index',\n",
       "  '_id': '21404',\n",
       "  '_score': 11.033821,\n",
       "  '_source': {'title': 'Test Big Data 15154',\n",
       "   'description': '[]',\n",
       "   'image': \"[{'thumb': 'https://m.media-amazon.com/images/I/211V6992NML._SS40_.jpg', 'large': 'https://m.media-amazon.com/images/I/211V6992NML.jpg', 'variant': 'MAIN', 'hi_res': None}]\",\n",
       "   'rating': 4.7}},\n",
       " {'_index': 'es_index',\n",
       "  '_id': '25878',\n",
       "  '_score': 11.033821,\n",
       "  '_source': {'title': 'Test Big Data 1737',\n",
       "   'description': '[]',\n",
       "   'image': \"[{'thumb': 'https://m.media-amazon.com/images/I/51Z3H2PBW5L._SS40_.jpg', 'large': 'https://m.media-amazon.com/images/I/51Z3H2PBW5L.jpg', 'variant': 'MAIN', 'hi_res': None}]\",\n",
       "   'rating': 3.6}},\n",
       " {'_index': 'es_index',\n",
       "  '_id': '49744',\n",
       "  '_score': 10.714034,\n",
       "  '_source': {'title': 'Sundancer',\n",
       "   'description': \"['15 Tracks. Very early band live recording in 3 California sites data 1966']\",\n",
       "   'image': \"[{'thumb': 'https://m.media-amazon.com/images/I/61vEEGNSJPL._SS40_.jpg', 'large': 'https://m.media-amazon.com/images/I/61vEEGNSJPL.jpg', 'variant': 'MAIN', 'hi_res': 'https://m.media-amazon.com/images/I/A1YSsxk9CoL._SL1500_.jpg'}]\",\n",
       "   'rating': 5.0}},\n",
       " {'_index': 'es_index',\n",
       "  '_id': '55636',\n",
       "  '_score': 10.306979,\n",
       "  '_ignored': ['image.keyword', 'description.keyword'],\n",
       "  '_source': {'title': 'ONF Goosebumps 6th Mini Album Dahlia Version CD+1p Poster+72p Booklet+1p Selfie PhotoCard+1p PhotoCard+1p Secret Selfie+1p Secret Card+1p From.ONF Diskette Data+Message PhotoCard SET+Tracking Kpop',\n",
       "   'description': '[\\'ONF Goosebumps 6th Mini Album Dahlia Version packages includes\\', \\'CD+1p Folded Poster+72p Booklet+1p Selife Photo Card+1p Photo Card +1p Secret Selife Photo Card+1p Secret Photo Card+1p From. ONF Diskette Data +Extra Message Photo Card SET+Free Tracking Number.\\', \\'Message Photocards Set will be randomly selected from any kpop group and included.\\', \\'\"Officially distributed Brand New & Factory Sealed CD.\" \"Your purchase quantity will be count on Korea HANTEO & GAON Chart!\"\\', \\'Track List\\', \\'Disk(CD) 1. We will be updated soon...\\']',\n",
       "   'image': \"[{'thumb': 'https://m.media-amazon.com/images/I/410X6+HVMbL._SS40_.jpg', 'large': 'https://m.media-amazon.com/images/I/410X6+HVMbL.jpg', 'variant': 'MAIN', 'hi_res': None}, {'thumb': 'https://m.media-amazon.com/images/I/41khvXJWo7L._SS40_.jpg', 'large': 'https://m.media-amazon.com/images/I/41khvXJWo7L.jpg', 'variant': 'PT01', 'hi_res': 'https://m.media-amazon.com/images/I/71VQTxJl5LL._SL1500_.jpg'}, {'thumb': 'https://m.media-amazon.com/images/I/41XmgKe5BEL._SS40_.jpg', 'large': 'https://m.media-amazon.com/images/I/41XmgKe5BEL.jpg', 'variant': 'PT02', 'hi_res': 'https://m.media-amazon.com/images/I/718m9YBz-kL._SL1500_.jpg'}, {'thumb': 'https://m.media-amazon.com/images/I/41v3MJDwTwL._SS40_.jpg', 'large': 'https://m.media-amazon.com/images/I/41v3MJDwTwL.jpg', 'variant': 'PT03', 'hi_res': 'https://m.media-amazon.com/images/I/71kLl5vYnPL._SL1500_.jpg'}, {'thumb': 'https://m.media-amazon.com/images/I/31YmWQm+NnL._SS40_.jpg', 'large': 'https://m.media-amazon.com/images/I/31YmWQm+NnL.jpg', 'variant': 'PT04', 'hi_res': 'https://m.media-amazon.com/images/I/61E0KTkepsL._SL1500_.jpg'}, {'thumb': 'https://m.media-amazon.com/images/I/315NqnPH3cL._SS40_.jpg', 'large': 'https://m.media-amazon.com/images/I/315NqnPH3cL.jpg', 'variant': 'PT05', 'hi_res': 'https://m.media-amazon.com/images/I/61FKURUD+XL._SL1500_.jpg'}, {'thumb': 'https://m.media-amazon.com/images/I/41jfGUi8StL._SS40_.jpg', 'large': 'https://m.media-amazon.com/images/I/41jfGUi8StL.jpg', 'variant': 'PT06', 'hi_res': None}, {'thumb': 'https://m.media-amazon.com/images/I/511ISo6x8DL._SS40_.jpg', 'large': 'https://m.media-amazon.com/images/I/511ISo6x8DL.jpg', 'variant': 'PT07', 'hi_res': None}, {'thumb': 'https://m.media-amazon.com/images/I/41wNPs3hykL._SS40_.jpg', 'large': 'https://m.media-amazon.com/images/I/41wNPs3hykL.jpg', 'variant': 'PT08', 'hi_res': None}]\",\n",
       "   'rating': 5.0}}]"
      ]
     },
     "execution_count": 25,
     "metadata": {},
     "output_type": "execute_result"
    }
   ],
   "source": [
    "docs"
   ]
  },
  {
   "cell_type": "code",
   "execution_count": 27,
   "metadata": {},
   "outputs": [
    {
     "name": "stderr",
     "output_type": "stream",
     "text": [
      "/var/folders/c8/fll6dgp97mnd842vr2qlbjr80000gr/T/ipykernel_66388/3403628480.py:20: DeprecationWarning: Received 'size' via a specific parameter in the presence of a 'body' parameter, which is deprecated and will be removed in a future version. Instead, use only 'body' or only specific parameters.\n",
      "  response = es.search(index=index_name, body=body, size=top_n)\n"
     ]
    },
    {
     "data": {
      "text/html": [
       "<div>\n",
       "<style scoped>\n",
       "    .dataframe tbody tr th:only-of-type {\n",
       "        vertical-align: middle;\n",
       "    }\n",
       "\n",
       "    .dataframe tbody tr th {\n",
       "        vertical-align: top;\n",
       "    }\n",
       "\n",
       "    .dataframe thead th {\n",
       "        text-align: right;\n",
       "    }\n",
       "</style>\n",
       "<table border=\"1\" class=\"dataframe\">\n",
       "  <thead>\n",
       "    <tr style=\"text-align: right;\">\n",
       "      <th></th>\n",
       "      <th>title</th>\n",
       "      <th>description</th>\n",
       "      <th>image</th>\n",
       "      <th>rating</th>\n",
       "    </tr>\n",
       "  </thead>\n",
       "  <tbody>\n",
       "    <tr>\n",
       "      <th>0</th>\n",
       "      <td>Data Lords</td>\n",
       "      <td>['2 CD set includes hi-res download card and l...</td>\n",
       "      <td>[{'thumb': 'https://m.media-amazon.com/images/...</td>\n",
       "      <td>4.6</td>\n",
       "    </tr>\n",
       "    <tr>\n",
       "      <th>1</th>\n",
       "      <td>Test Big Data 15154</td>\n",
       "      <td>[]</td>\n",
       "      <td>[{'thumb': 'https://m.media-amazon.com/images/...</td>\n",
       "      <td>4.7</td>\n",
       "    </tr>\n",
       "    <tr>\n",
       "      <th>2</th>\n",
       "      <td>Test Big Data 1737</td>\n",
       "      <td>[]</td>\n",
       "      <td>[{'thumb': 'https://m.media-amazon.com/images/...</td>\n",
       "      <td>3.6</td>\n",
       "    </tr>\n",
       "    <tr>\n",
       "      <th>3</th>\n",
       "      <td>Sundancer</td>\n",
       "      <td>['15 Tracks. Very early band live recording in...</td>\n",
       "      <td>[{'thumb': 'https://m.media-amazon.com/images/...</td>\n",
       "      <td>5.0</td>\n",
       "    </tr>\n",
       "    <tr>\n",
       "      <th>4</th>\n",
       "      <td>ONF Goosebumps 6th Mini Album Dahlia Version C...</td>\n",
       "      <td>['ONF Goosebumps 6th Mini Album Dahlia Version...</td>\n",
       "      <td>[{'thumb': 'https://m.media-amazon.com/images/...</td>\n",
       "      <td>5.0</td>\n",
       "    </tr>\n",
       "  </tbody>\n",
       "</table>\n",
       "</div>"
      ],
      "text/plain": [
       "                                               title  \\\n",
       "0                                         Data Lords   \n",
       "1                                Test Big Data 15154   \n",
       "2                                 Test Big Data 1737   \n",
       "3                                          Sundancer   \n",
       "4  ONF Goosebumps 6th Mini Album Dahlia Version C...   \n",
       "\n",
       "                                         description  \\\n",
       "0  ['2 CD set includes hi-res download card and l...   \n",
       "1                                                 []   \n",
       "2                                                 []   \n",
       "3  ['15 Tracks. Very early band live recording in...   \n",
       "4  ['ONF Goosebumps 6th Mini Album Dahlia Version...   \n",
       "\n",
       "                                               image  rating  \n",
       "0  [{'thumb': 'https://m.media-amazon.com/images/...     4.6  \n",
       "1  [{'thumb': 'https://m.media-amazon.com/images/...     4.7  \n",
       "2  [{'thumb': 'https://m.media-amazon.com/images/...     3.6  \n",
       "3  [{'thumb': 'https://m.media-amazon.com/images/...     5.0  \n",
       "4  [{'thumb': 'https://m.media-amazon.com/images/...     5.0  "
      ]
     },
     "execution_count": 27,
     "metadata": {},
     "output_type": "execute_result"
    }
   ],
   "source": [
    "body = {\n",
    "        \"query\": {\n",
    "            \"bool\": {\n",
    "                \"should\": [\n",
    "                    {\n",
    "                        \"match\": {\n",
    "                            \"title\": query  # Match against the title field\n",
    "                        }\n",
    "                    },\n",
    "                    {\n",
    "                        \"match\": {\n",
    "                            \"description\": query  # Match against the description field\n",
    "                        }\n",
    "                    }\n",
    "                ]\n",
    "            }\n",
    "        }\n",
    "    }\n",
    "    \n",
    "response = es.search(index=index_name, body=body, size=top_n)\n",
    "search_results =  response['hits']['hits']  # List of matched documents\n",
    "    \n",
    "# Convert search results to DataFrame\n",
    "results_df = pd.DataFrame([hit['_source'] for hit in search_results])\n",
    "results_df"
   ]
  },
  {
   "cell_type": "code",
   "execution_count": 26,
   "metadata": {},
   "outputs": [
    {
     "ename": "NameError",
     "evalue": "name 'get_elasticsearch_results' is not defined",
     "output_type": "error",
     "traceback": [
      "\u001b[0;31m---------------------------------------------------------------------------\u001b[0m",
      "\u001b[0;31mNameError\u001b[0m                                 Traceback (most recent call last)",
      "Cell \u001b[0;32mIn[26], line 13\u001b[0m\n\u001b[1;32m     10\u001b[0m es_index_name \u001b[38;5;241m=\u001b[39m \u001b[38;5;124m'\u001b[39m\u001b[38;5;124mes_index\u001b[39m\u001b[38;5;124m'\u001b[39m\n\u001b[1;32m     11\u001b[0m query \u001b[38;5;241m=\u001b[39m \u001b[38;5;124m'\u001b[39m\u001b[38;5;124mdata\u001b[39m\u001b[38;5;124m'\u001b[39m\n\u001b[0;32m---> 13\u001b[0m \u001b[43mget_elasticsearch_results\u001b[49m(query, meta_url, index_name, directory, sample_size)\n",
      "\u001b[0;31mNameError\u001b[0m: name 'get_elasticsearch_results' is not defined"
     ]
    }
   ],
   "source": [
    "meta_url = \"https://datarepo.eng.ucsd.edu/mcauley_group/data/amazon_2023/raw/meta_categories/meta_Digital_Music.jsonl.gz\"\n",
    "\n",
    "filename = 'Digital_Music_Meta.csv'\n",
    "# Specify sample size and directory for saving\n",
    "sample_size = 100000\n",
    "directory = '/Users/rshankar/Downloads/Projects/deep-learning/amazon-search-recommend/data'\n",
    "bm_pickle_file = 'bm25_index.pkl'\n",
    "\n",
    "#ES\n",
    "es_index_name = 'es_index'\n",
    "query = 'data'\n",
    "\n",
    "get_elasticsearch_results(query, meta_url, index_name, directory, sample_size)"
   ]
  }
 ],
 "metadata": {
  "kernelspec": {
   "display_name": "cv",
   "language": "python",
   "name": "python3"
  },
  "language_info": {
   "codemirror_mode": {
    "name": "ipython",
    "version": 3
   },
   "file_extension": ".py",
   "mimetype": "text/x-python",
   "name": "python",
   "nbconvert_exporter": "python",
   "pygments_lexer": "ipython3",
   "version": "3.10.13"
  }
 },
 "nbformat": 4,
 "nbformat_minor": 2
}
