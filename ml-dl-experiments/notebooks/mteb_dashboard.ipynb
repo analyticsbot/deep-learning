{
 "cells": [
  {
   "cell_type": "markdown",
   "metadata": {},
   "source": [
    "While reading at https://jina.ai/news/scaling-test-time-compute-for-embedding-models/\n",
    "\n",
    "I thought of creating a interactive dashboard with the latest models in that list (currently it is this image) - https://jina-ai-gmbh.ghost.io/content/images/size/w1000/2024/12/plot--1-.png"
   ]
  },
  {
   "cell_type": "code",
   "execution_count": 1,
   "metadata": {},
   "outputs": [
    {
     "data": {
      "text/html": [
       "<img src=\"https://jina-ai-gmbh.ghost.io/content/images/size/w1000/2024/12/plot--1-.png\"/>"
      ],
      "text/plain": [
       "<IPython.core.display.Image object>"
      ]
     },
     "execution_count": 1,
     "metadata": {},
     "output_type": "execute_result"
    }
   ],
   "source": [
    "from IPython.display import Image\n",
    "\n",
    "# https://jina-ai-gmbh.ghost.io/content/images/size/w1000/2024/12/plot--1-.png\n",
    "Image(url='https://jina-ai-gmbh.ghost.io/content/images/size/w1000/2024/12/plot--1-.png')"
   ]
  },
  {
   "cell_type": "code",
   "execution_count": 10,
   "metadata": {},
   "outputs": [
    {
     "data": {
      "text/plain": [
       "0"
      ]
     },
     "execution_count": 10,
     "metadata": {},
     "output_type": "execute_result"
    }
   ],
   "source": [
    "# table = driver.find_elements(By.TAG_NAME, 'table')\n",
    "# table = driver.find_element(By.CSS_SELECTOR, '.table.svelte-1txh5yn')\n",
    "\n",
    "len(table)"
   ]
  },
  {
   "cell_type": "code",
   "execution_count": null,
   "metadata": {},
   "outputs": [],
   "source": []
  },
  {
   "cell_type": "code",
   "execution_count": 4,
   "metadata": {},
   "outputs": [
    {
     "ename": "NoSuchElementException",
     "evalue": "Message: no such element: Unable to locate element: {\"method\":\"tag name\",\"selector\":\"table\"}\n  (Session info: chrome=131.0.6778.205); For documentation on this error, please visit: https://www.selenium.dev/documentation/webdriver/troubleshooting/errors#no-such-element-exception\nStacktrace:\n0   chromedriver                        0x00000001009db184 cxxbridge1$str$ptr + 3626716\n1   chromedriver                        0x00000001009d39d4 cxxbridge1$str$ptr + 3596076\n2   chromedriver                        0x0000000100440968 cxxbridge1$string$len + 89228\n3   chromedriver                        0x0000000100484d50 cxxbridge1$string$len + 368756\n4   chromedriver                        0x00000001004be5b4 cxxbridge1$string$len + 604376\n5   chromedriver                        0x0000000100479568 cxxbridge1$string$len + 321676\n6   chromedriver                        0x000000010047a1b8 cxxbridge1$string$len + 324828\n7   chromedriver                        0x00000001009a69ac cxxbridge1$str$ptr + 3411716\n8   chromedriver                        0x00000001009a9ccc cxxbridge1$str$ptr + 3424804\n9   chromedriver                        0x000000010098d86c cxxbridge1$str$ptr + 3308996\n10  chromedriver                        0x00000001009aa58c cxxbridge1$str$ptr + 3427044\n11  chromedriver                        0x000000010097f09c cxxbridge1$str$ptr + 3249652\n12  chromedriver                        0x00000001009c44b8 cxxbridge1$str$ptr + 3533328\n13  chromedriver                        0x00000001009c4634 cxxbridge1$str$ptr + 3533708\n14  chromedriver                        0x00000001009d3648 cxxbridge1$str$ptr + 3595168\n15  libsystem_pthread.dylib             0x0000000194a282e4 _pthread_start + 136\n16  libsystem_pthread.dylib             0x0000000194a230fc thread_start + 8\n",
     "output_type": "error",
     "traceback": [
      "\u001b[0;31m---------------------------------------------------------------------------\u001b[0m",
      "\u001b[0;31mNoSuchElementException\u001b[0m                    Traceback (most recent call last)",
      "Cell \u001b[0;32mIn[4], line 16\u001b[0m\n\u001b[1;32m      5\u001b[0m \u001b[38;5;28;01mimport\u001b[39;00m \u001b[38;5;21;01mpandas\u001b[39;00m \u001b[38;5;28;01mas\u001b[39;00m \u001b[38;5;21;01mpd\u001b[39;00m\n\u001b[1;32m      7\u001b[0m \u001b[38;5;66;03m# # Initialize the WebDriver (ensure the WebDriver is in your PATH)\u001b[39;00m\n\u001b[1;32m      8\u001b[0m \u001b[38;5;66;03m# driver = webdriver.Chrome()\u001b[39;00m\n\u001b[1;32m      9\u001b[0m \n\u001b[0;32m   (...)\u001b[0m\n\u001b[1;32m     14\u001b[0m \u001b[38;5;66;03m# wait = WebDriverWait(driver, 10)\u001b[39;00m\n\u001b[1;32m     15\u001b[0m \u001b[38;5;66;03m# table = wait.until(EC.presence_of_element_located((By.TAG_NAME, 'table')))\u001b[39;00m\n\u001b[0;32m---> 16\u001b[0m table \u001b[38;5;241m=\u001b[39m \u001b[43mdriver\u001b[49m\u001b[38;5;241;43m.\u001b[39;49m\u001b[43mfind_element\u001b[49m\u001b[43m(\u001b[49m\u001b[43mBy\u001b[49m\u001b[38;5;241;43m.\u001b[39;49m\u001b[43mTAG_NAME\u001b[49m\u001b[43m,\u001b[49m\u001b[43m \u001b[49m\u001b[38;5;124;43m'\u001b[39;49m\u001b[38;5;124;43mtable\u001b[39;49m\u001b[38;5;124;43m'\u001b[39;49m\u001b[43m)\u001b[49m\n\u001b[1;32m     17\u001b[0m \u001b[38;5;66;03m# Extract table rows\u001b[39;00m\n\u001b[1;32m     18\u001b[0m rows \u001b[38;5;241m=\u001b[39m table\u001b[38;5;241m.\u001b[39mfind_elements(By\u001b[38;5;241m.\u001b[39mTAG_NAME, \u001b[38;5;124m'\u001b[39m\u001b[38;5;124mtr\u001b[39m\u001b[38;5;124m'\u001b[39m)\n",
      "File \u001b[0;32m~/anaconda3/envs/cv/lib/python3.10/site-packages/selenium/webdriver/remote/webdriver.py:741\u001b[0m, in \u001b[0;36mWebDriver.find_element\u001b[0;34m(self, by, value)\u001b[0m\n\u001b[1;32m    738\u001b[0m     by \u001b[38;5;241m=\u001b[39m By\u001b[38;5;241m.\u001b[39mCSS_SELECTOR\n\u001b[1;32m    739\u001b[0m     value \u001b[38;5;241m=\u001b[39m \u001b[38;5;124mf\u001b[39m\u001b[38;5;124m'\u001b[39m\u001b[38;5;124m[name=\u001b[39m\u001b[38;5;124m\"\u001b[39m\u001b[38;5;132;01m{\u001b[39;00mvalue\u001b[38;5;132;01m}\u001b[39;00m\u001b[38;5;124m\"\u001b[39m\u001b[38;5;124m]\u001b[39m\u001b[38;5;124m'\u001b[39m\n\u001b[0;32m--> 741\u001b[0m \u001b[38;5;28;01mreturn\u001b[39;00m \u001b[38;5;28;43mself\u001b[39;49m\u001b[38;5;241;43m.\u001b[39;49m\u001b[43mexecute\u001b[49m\u001b[43m(\u001b[49m\u001b[43mCommand\u001b[49m\u001b[38;5;241;43m.\u001b[39;49m\u001b[43mFIND_ELEMENT\u001b[49m\u001b[43m,\u001b[49m\u001b[43m \u001b[49m\u001b[43m{\u001b[49m\u001b[38;5;124;43m\"\u001b[39;49m\u001b[38;5;124;43musing\u001b[39;49m\u001b[38;5;124;43m\"\u001b[39;49m\u001b[43m:\u001b[49m\u001b[43m \u001b[49m\u001b[43mby\u001b[49m\u001b[43m,\u001b[49m\u001b[43m \u001b[49m\u001b[38;5;124;43m\"\u001b[39;49m\u001b[38;5;124;43mvalue\u001b[39;49m\u001b[38;5;124;43m\"\u001b[39;49m\u001b[43m:\u001b[49m\u001b[43m \u001b[49m\u001b[43mvalue\u001b[49m\u001b[43m}\u001b[49m\u001b[43m)\u001b[49m[\u001b[38;5;124m\"\u001b[39m\u001b[38;5;124mvalue\u001b[39m\u001b[38;5;124m\"\u001b[39m]\n",
      "File \u001b[0;32m~/anaconda3/envs/cv/lib/python3.10/site-packages/selenium/webdriver/remote/webdriver.py:347\u001b[0m, in \u001b[0;36mWebDriver.execute\u001b[0;34m(self, driver_command, params)\u001b[0m\n\u001b[1;32m    345\u001b[0m response \u001b[38;5;241m=\u001b[39m \u001b[38;5;28mself\u001b[39m\u001b[38;5;241m.\u001b[39mcommand_executor\u001b[38;5;241m.\u001b[39mexecute(driver_command, params)\n\u001b[1;32m    346\u001b[0m \u001b[38;5;28;01mif\u001b[39;00m response:\n\u001b[0;32m--> 347\u001b[0m     \u001b[38;5;28;43mself\u001b[39;49m\u001b[38;5;241;43m.\u001b[39;49m\u001b[43merror_handler\u001b[49m\u001b[38;5;241;43m.\u001b[39;49m\u001b[43mcheck_response\u001b[49m\u001b[43m(\u001b[49m\u001b[43mresponse\u001b[49m\u001b[43m)\u001b[49m\n\u001b[1;32m    348\u001b[0m     response[\u001b[38;5;124m\"\u001b[39m\u001b[38;5;124mvalue\u001b[39m\u001b[38;5;124m\"\u001b[39m] \u001b[38;5;241m=\u001b[39m \u001b[38;5;28mself\u001b[39m\u001b[38;5;241m.\u001b[39m_unwrap_value(response\u001b[38;5;241m.\u001b[39mget(\u001b[38;5;124m\"\u001b[39m\u001b[38;5;124mvalue\u001b[39m\u001b[38;5;124m\"\u001b[39m, \u001b[38;5;28;01mNone\u001b[39;00m))\n\u001b[1;32m    349\u001b[0m     \u001b[38;5;28;01mreturn\u001b[39;00m response\n",
      "File \u001b[0;32m~/anaconda3/envs/cv/lib/python3.10/site-packages/selenium/webdriver/remote/errorhandler.py:229\u001b[0m, in \u001b[0;36mErrorHandler.check_response\u001b[0;34m(self, response)\u001b[0m\n\u001b[1;32m    227\u001b[0m         alert_text \u001b[38;5;241m=\u001b[39m value[\u001b[38;5;124m\"\u001b[39m\u001b[38;5;124malert\u001b[39m\u001b[38;5;124m\"\u001b[39m]\u001b[38;5;241m.\u001b[39mget(\u001b[38;5;124m\"\u001b[39m\u001b[38;5;124mtext\u001b[39m\u001b[38;5;124m\"\u001b[39m)\n\u001b[1;32m    228\u001b[0m     \u001b[38;5;28;01mraise\u001b[39;00m exception_class(message, screen, stacktrace, alert_text)  \u001b[38;5;66;03m# type: ignore[call-arg]  # mypy is not smart enough here\u001b[39;00m\n\u001b[0;32m--> 229\u001b[0m \u001b[38;5;28;01mraise\u001b[39;00m exception_class(message, screen, stacktrace)\n",
      "\u001b[0;31mNoSuchElementException\u001b[0m: Message: no such element: Unable to locate element: {\"method\":\"tag name\",\"selector\":\"table\"}\n  (Session info: chrome=131.0.6778.205); For documentation on this error, please visit: https://www.selenium.dev/documentation/webdriver/troubleshooting/errors#no-such-element-exception\nStacktrace:\n0   chromedriver                        0x00000001009db184 cxxbridge1$str$ptr + 3626716\n1   chromedriver                        0x00000001009d39d4 cxxbridge1$str$ptr + 3596076\n2   chromedriver                        0x0000000100440968 cxxbridge1$string$len + 89228\n3   chromedriver                        0x0000000100484d50 cxxbridge1$string$len + 368756\n4   chromedriver                        0x00000001004be5b4 cxxbridge1$string$len + 604376\n5   chromedriver                        0x0000000100479568 cxxbridge1$string$len + 321676\n6   chromedriver                        0x000000010047a1b8 cxxbridge1$string$len + 324828\n7   chromedriver                        0x00000001009a69ac cxxbridge1$str$ptr + 3411716\n8   chromedriver                        0x00000001009a9ccc cxxbridge1$str$ptr + 3424804\n9   chromedriver                        0x000000010098d86c cxxbridge1$str$ptr + 3308996\n10  chromedriver                        0x00000001009aa58c cxxbridge1$str$ptr + 3427044\n11  chromedriver                        0x000000010097f09c cxxbridge1$str$ptr + 3249652\n12  chromedriver                        0x00000001009c44b8 cxxbridge1$str$ptr + 3533328\n13  chromedriver                        0x00000001009c4634 cxxbridge1$str$ptr + 3533708\n14  chromedriver                        0x00000001009d3648 cxxbridge1$str$ptr + 3595168\n15  libsystem_pthread.dylib             0x0000000194a282e4 _pthread_start + 136\n16  libsystem_pthread.dylib             0x0000000194a230fc thread_start + 8\n"
     ]
    }
   ],
   "source": [
    "from selenium import webdriver\n",
    "from selenium.webdriver.common.by import By\n",
    "from selenium.webdriver.support.ui import WebDriverWait\n",
    "from selenium.webdriver.support import expected_conditions as EC\n",
    "import pandas as pd\n",
    "\n",
    "# # Initialize the WebDriver (ensure the WebDriver is in your PATH)\n",
    "# driver = webdriver.Chrome()\n",
    "\n",
    "# # Navigate to the MTEB leaderboard\n",
    "# driver.get('https://huggingface.co/spaces/mteb/leaderboard')\n",
    "\n",
    "# Wait for the leaderboard table to load\n",
    "# wait = WebDriverWait(driver, 10)\n",
    "# table = wait.until(EC.presence_of_element_located((By.TAG_NAME, 'table')))\n",
    "table = driver.find_element(By.TAG_NAME, 'table')\n",
    "# Extract table rows\n",
    "rows = table.find_elements(By.TAG_NAME, 'tr')\n",
    "\n",
    "# Initialize lists to store data\n",
    "model_names = []\n",
    "performances = []\n",
    "parameters = []\n",
    "repo_urls = []\n",
    "\n",
    "# Iterate over the rows to extract data\n",
    "for row in rows[1:101]:  # Skip the header row and limit to top 100 models\n",
    "    cols = row.find_elements(By.TAG_NAME, 'td')\n",
    "    if len(cols) > 0:\n",
    "        # Extract model name\n",
    "        model_name = cols[0].text\n",
    "\n",
    "        # Extract performance (assuming it's in the second column)\n",
    "        performance = float(cols[1].text)\n",
    "\n",
    "        # Extract parameters (assuming it's in the third column)\n",
    "        parameter = int(cols[2].text.replace(',', ''))\n",
    "\n",
    "        # Extract repository URL from the link in the first column\n",
    "        repo_link = cols[0].find_element(By.TAG_NAME, 'a')\n",
    "        repo_url = repo_link.get_attribute('href')\n",
    "\n",
    "        # Append extracted data to the lists\n",
    "        model_names.append(model_name)\n",
    "        performances.append(performance)\n",
    "        parameters.append(parameter)\n",
    "        repo_urls.append(repo_url)\n",
    "\n",
    "# Close the WebDriver\n",
    "# driver.quit()\n",
    "\n",
    "# Create a DataFrame\n",
    "data = pd.DataFrame({\n",
    "    'Model Name': model_names,\n",
    "    'Performance': performances,\n",
    "    'Parameters': parameters,\n",
    "    'Repository URL': repo_urls\n",
    "})\n",
    "\n",
    "# Save to CSV for future reference\n",
    "# data.to_csv('../data/mteb_top_100_models.csv', index=False)\n",
    "\n",
    "print(\"Data extraction complete. Top 100 models saved to 'mteb_top_100_models.csv'.\")\n"
   ]
  },
  {
   "cell_type": "code",
   "execution_count": null,
   "metadata": {},
   "outputs": [],
   "source": [
    "import plotly.express as px\n",
    "\n",
    "fig = px.scatter(\n",
    "    data,\n",
    "    x='Parameters',\n",
    "    y='Performance',\n",
    "    text='Model Name',\n",
    "    title='Scaling Law of Embedding Models',\n",
    "    labels={'Parameters': 'Number of Parameters', 'Performance': 'Average MTEB Performance on English Tasks'}\n",
    ")\n",
    "\n",
    "# Add trendline\n",
    "fig = px.scatter(\n",
    "    data,\n",
    "    x='Parameters',\n",
    "    y='Performance',\n",
    "    trendline='ols',\n",
    "    trendline_color_override='red',\n",
    "    title='Scaling Law of Embedding Models',\n",
    "    labels={'Parameters': 'Number of Parameters', 'Performance': 'Average MTEB Performance on English Tasks'}\n",
    ")\n",
    "\n",
    "# Update hover information\n",
    "fig.update_traces(\n",
    "    hovertemplate='<b>%{text}</b><br>Parameters: %{x}<br>Performance: %{y}'\n",
    ")\n",
    "\n",
    "# Add interactivity: clicking on a point opens the model's GitHub page\n",
    "# Assuming you have a dictionary mapping model names to URLs\n",
    "model_urls = {\n",
    "    'Model A': 'https://github.com/user/model_a',\n",
    "    'Model B': 'https://github.com/user/model_b',\n",
    "    # Add other models and their URLs\n",
    "}\n",
    "\n",
    "def open_url(trace, points, state):\n",
    "    if points.point_inds:\n",
    "        model_name = points.trace_text[points.point_inds[0]]\n",
    "        url = model_urls.get(model_name)\n",
    "        if url:\n",
    "            import webbrowser\n",
    "            webbrowser.open(url)\n",
    "\n",
    "fig.data[0].on_click(open_url)\n",
    "\n",
    "# Show the plot\n",
    "fig.show()\n"
   ]
  }
 ],
 "metadata": {
  "kernelspec": {
   "display_name": "cv",
   "language": "python",
   "name": "python3"
  },
  "language_info": {
   "codemirror_mode": {
    "name": "ipython",
    "version": 3
   },
   "file_extension": ".py",
   "mimetype": "text/x-python",
   "name": "python",
   "nbconvert_exporter": "python",
   "pygments_lexer": "ipython3",
   "version": "3.10.13"
  }
 },
 "nbformat": 4,
 "nbformat_minor": 2
}
