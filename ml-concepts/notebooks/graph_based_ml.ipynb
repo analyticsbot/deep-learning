{
 "cells": [
  {
   "cell_type": "markdown",
   "metadata": {},
   "source": [
    "#### Graph-based algorithms\n",
    "\n",
    "Graph-based algorithms can effectively model relationships and dependencies in data, making them particularly useful for problems like association rule mining and recommending frequently bought together (FBT) products. Below, I’ll outline what graph-based algorithms are, provide use cases, generate random data for FBT, implement a graph-based approach for FBT using a standard package, and address optimization and loss functions.\n",
    "\n",
    "#### What is a Graph-Based Algorithm?\n",
    "Graph-based algorithms leverage graph structures to represent data, where:\n",
    "\n",
    "- Nodes (Vertices) represent entities (e.g., products, users).\n",
    "- Edges represent relationships or connections between nodes (e.g., transactions, co-purchases).\n",
    "\n",
    "These algorithms can explore connections and patterns in data that might not be immediately evident through traditional methods.\n",
    "\n",
    "#### Use Cases for Graph-Based Algorithms\n",
    "- Social Networks: Analyzing relationships between users to recommend friends or content.\n",
    "- Recommendation Systems: Suggesting products or services based on user interactions or similarities.\n",
    "- Fraud Detection: Identifying suspicious patterns in transactions.\n",
    "- Biological Networks: Analyzing interactions between genes or proteins.\n",
    "- Web Page Ranking: Algorithms like PageRank use graph structures to rank web pages based on their links.\n",
    "- Solving FBT with Graph-Based Algorithms\n",
    "\n",
    "In the context of FBT, we can represent products as nodes and edges can represent co-purchase relationships.\n",
    "\n",
    "#### Generating Random Data for FBT\n",
    "We can generate a random dataset representing transactions, where each transaction contains a set of purchased items. Below is the code for generating this data:"
   ]
  },
  {
   "cell_type": "code",
   "execution_count": 3,
   "metadata": {},
   "outputs": [
    {
     "name": "stdout",
     "output_type": "stream",
     "text": [
      "            0           1           2           3           4\n",
      "0  Product 44  Product 41  Product 47  Product 13        None\n",
      "1  Product 31  Product 37   Product 3  Product 49  Product 43\n",
      "2   Product 2  Product 50   Product 6        None        None\n",
      "3  Product 50  Product 24  Product 17        None        None\n",
      "4  Product 36   Product 7        None        None        None\n"
     ]
    }
   ],
   "source": [
    "import pandas as pd\n",
    "import numpy as np\n",
    "\n",
    "# Set a random seed for reproducibility\n",
    "np.random.seed(42)\n",
    "\n",
    "# Define the number of transactions and products\n",
    "num_transactions = 10000  # Total transactions to simulate\n",
    "num_products = 50  # Total unique grocery items\n",
    "\n",
    "# List of example products (you can customize this)\n",
    "product_names = [\n",
    "    f\"Product {i}\" for i in range(1, num_products + 1)\n",
    "]\n",
    "\n",
    "# Randomly generate transactions\n",
    "transactions = []\n",
    "for _ in range(num_transactions):\n",
    "    # Randomly decide the number of products in this transaction (1 to 5)\n",
    "    num_items = np.random.randint(1, 6)\n",
    "    # Randomly sample products without replacement\n",
    "    items = np.random.choice(product_names, num_items, replace=False)\n",
    "    transactions.append(items)\n",
    "\n",
    "# Create a DataFrame for transactions\n",
    "transactions_df = pd.DataFrame(transactions)\n",
    "\n",
    "# Show the first few transactions\n",
    "print(transactions_df.head())\n"
   ]
  },
  {
   "cell_type": "markdown",
   "metadata": {},
   "source": [
    "#### Implementing Graph-Based FBT Algorithm\n",
    "We can use the NetworkX library to create a graph and analyze frequent itemsets for the FBT use case. Below is a sample implementation:"
   ]
  },
  {
   "cell_type": "code",
   "execution_count": 4,
   "metadata": {},
   "outputs": [
    {
     "name": "stdout",
     "output_type": "stream",
     "text": [
      "Recommended items for 'Product 1': ['Product 43', 'Product 8', 'Product 6', 'Product 2', 'Product 14']\n"
     ]
    }
   ],
   "source": [
    "import networkx as nx\n",
    "from itertools import combinations\n",
    "\n",
    "# Create a graph to represent product co-purchases\n",
    "G = nx.Graph()\n",
    "\n",
    "# Add edges based on transactions\n",
    "for transaction in transactions:\n",
    "    # Generate all possible pairs of products bought together\n",
    "    for item1, item2 in combinations(transaction, 2):\n",
    "        # Add an edge for the co-purchase\n",
    "        G.add_edge(item1, item2)\n",
    "\n",
    "# Function to recommend items based on an input item\n",
    "def recommend_items(item, G, top_n=5):\n",
    "    \"\"\"Recommend items based on the input item using the graph.\"\"\"\n",
    "    if item not in G:\n",
    "        return []  # If the item is not in the graph, return an empty list\n",
    "    \n",
    "    # Get the neighbors of the input item (items bought together)\n",
    "    neighbors = list(G.neighbors(item))\n",
    "    \n",
    "    # Sort neighbors by degree (number of co-purchases) and select top N\n",
    "    recommended_items = sorted(neighbors, key=lambda x: G.degree[x], reverse=True)[:top_n]\n",
    "    return recommended_items\n",
    "\n",
    "# Example usage: Recommend items for \"Product 1\"\n",
    "recommended_for_product_1 = recommend_items(\"Product 1\", G)\n",
    "print(\"Recommended items for 'Product 1':\", recommended_for_product_1)\n"
   ]
  },
  {
   "cell_type": "markdown",
   "metadata": {},
   "source": [
    "#### Evaluate Recommendations\n",
    "We can now evaluate the recommendations made by the model by checking the most frequently purchased items that are recommended together."
   ]
  },
  {
   "cell_type": "code",
   "execution_count": 5,
   "metadata": {},
   "outputs": [
    {
     "name": "stdout",
     "output_type": "stream",
     "text": [
      "Recommended items for 'Product 1': ['Product 43', 'Product 8', 'Product 6', 'Product 2', 'Product 14']\n",
      "Recommended items for 'Product 10': ['Product 33', 'Product 4', 'Product 13', 'Product 18', 'Product 41']\n",
      "Recommended items for 'Product 20': ['Product 24', 'Product 23', 'Product 48', 'Product 43', 'Product 28']\n"
     ]
    }
   ],
   "source": [
    "# Let's check recommendations for a few products\n",
    "products_to_check = [\"Product 1\", \"Product 10\", \"Product 20\"]\n",
    "\n",
    "for product in products_to_check:\n",
    "    recommended = recommend_items(product, G)\n",
    "    print(f\"Recommended items for '{product}': {recommended}\")\n"
   ]
  },
  {
   "cell_type": "markdown",
   "metadata": {},
   "source": [
    "#### When to Use Graph-Based Algorithms\n",
    "- Use Graph-Based Algorithms When:\n",
    "\n",
    "    - You need to analyze relationships and connections in your data.\n",
    "    - The dataset is inherently relational (e.g., users and items, social interactions).\n",
    "    - You want to leverage network properties for recommendations or clustering.\n",
    "- When Not to Use Graph-Based Algorithms:\n",
    "\n",
    "    - When the dataset is too small or simple, making the overhead of graph representation unnecessary.\n",
    "    - When performance is critical, and simpler algorithms suffice.\n",
    "    - When the relationships in the data are not well-defined or complex.\n",
    "\n",
    "#### Loss Function in Graph-Based Learning\n",
    "The loss function in a graph-based context may vary depending on the task:\n",
    "\n",
    "- For classification tasks, you might use a cross-entropy loss.\n",
    "- For link prediction, binary cross-entropy loss could be appropriate.\n",
    "- In the context of FBT, the focus might be more on measures like precision and recall, assessing how well the model predicts co-purchases.\n",
    "\n",
    "#### Optimizing the Algorithm\n",
    "Optimization strategies can include:\n",
    "\n",
    "- Parameter Tuning: Adjusting hyperparameters such as minimum support or confidence thresholds.\n",
    "- Graph Simplification: Reducing the graph size by filtering out low-frequency items.\n",
    "- Sampling: Using representative samples to reduce computational complexity without losing significant information.\n",
    "- Parallel Processing: Leveraging distributed computing frameworks to handle large graphs efficiently.\n",
    "- Use Efficient Data Structures: Optimize data storage to handle sparsity in graphs."
   ]
  },
  {
   "cell_type": "markdown",
   "metadata": {},
   "source": []
  }
 ],
 "metadata": {
  "kernelspec": {
   "display_name": "cv",
   "language": "python",
   "name": "python3"
  },
  "language_info": {
   "codemirror_mode": {
    "name": "ipython",
    "version": 3
   },
   "file_extension": ".py",
   "mimetype": "text/x-python",
   "name": "python",
   "nbconvert_exporter": "python",
   "pygments_lexer": "ipython3",
   "version": "3.10.13"
  }
 },
 "nbformat": 4,
 "nbformat_minor": 2
}
