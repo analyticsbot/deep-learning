{
 "cells": [
  {
   "cell_type": "markdown",
   "metadata": {},
   "source": [
    "#### What is Association Rule Learning Algorithm and Where is it Used?\n",
    "Association Rule Learning is a rule-based machine learning technique used to discover interesting relationships, patterns, or associations among a set of items in large datasets. It is widely used in market basket analysis to understand customer purchase behavior, and it can also be applied in:\n",
    "\n",
    "- Recommendation Systems: Suggesting products to users based on their purchase history.\n",
    "- Web Usage Mining: Analyzing user navigation patterns on websites.\n",
    "- Fraud Detection: Identifying unusual patterns that may indicate fraudulent activities.\n",
    "\n",
    "#### Generate Random Data and Plot It for Association Rule Learning\n",
    "Association Rule Learning often deals with categorical data, like transactions in a market basket. Here's an example of how to generate a simple dataset and visualize it:"
   ]
  },
  {
   "cell_type": "code",
   "execution_count": 1,
   "metadata": {},
   "outputs": [
    {
     "data": {
      "image/png": "[encoded data removed]",
      "text/plain": [
       "<Figure size 1000x600 with 1 Axes>"
      ]
     },
     "metadata": {},
     "output_type": "display_data"
    }
   ],
   "source": [
    "import pandas as pd\n",
    "import matplotlib.pyplot as plt\n",
    "import seaborn as sns\n",
    "\n",
    "# Generate random data for transactions\n",
    "data = {\n",
    "    'Transaction': [1, 1, 1, 2, 2, 3, 3, 4, 4, 5, 5, 5],\n",
    "    'Item': ['Bread', 'Milk', 'Eggs', 'Bread', 'Diapers', 'Milk', 'Diapers', 'Eggs', 'Bread', 'Milk', 'Eggs', 'Diapers']\n",
    "}\n",
    "\n",
    "df = pd.DataFrame(data)\n",
    "\n",
    "# Count the occurrences of items\n",
    "item_counts = df['Item'].value_counts()\n",
    "\n",
    "# Plotting the item frequencies\n",
    "plt.figure(figsize=(10, 6))\n",
    "sns.barplot(x=item_counts.index, y=item_counts.values)\n",
    "plt.title('Item Frequencies in Transactions')\n",
    "plt.xlabel('Items')\n",
    "plt.ylabel('Frequency')\n",
    "plt.xticks(rotation=45)\n",
    "plt.show()\n"
   ]
  },
  {
   "cell_type": "markdown",
   "metadata": {},
   "source": [
    "#### Is Association Rule Learning Good for Only FBT or Some Other Cases?\n",
    "While Association Rule Learning is commonly associated with Frequently Bought Together (FBT) analysis, it is not limited to this. It can also be applied in:\n",
    "\n",
    "- Cross-selling: Identifying products that are often purchased together.\n",
    "- Customer Segmentation: Understanding common characteristics or behaviors among customers.\n",
    "- Social Network Analysis: Discovering patterns in user interactions.\n",
    "\n",
    "#### Implement Association Rule Learning from Scratch Using Numpy\n",
    "Here's a simple implementation of the Apriori algorithm for Association Rule Learning:\n"
   ]
  },
  {
   "cell_type": "code",
   "execution_count": 5,
   "metadata": {},
   "outputs": [
    {
     "name": "stdout",
     "output_type": "stream",
     "text": [
      "Frequent Itemsets: [{frozenset({'Milk'}): 4, frozenset({'Bread'}): 4, frozenset({'Diapers'}): 3, frozenset({'Eggs'}): 1}, {frozenset({'Bread', 'Milk'}): 3, frozenset({'Diapers', 'Bread'}): 2, frozenset({'Diapers', 'Milk'}): 2, frozenset({'Bread', 'Eggs'}): 1, frozenset({'Milk', 'Eggs'}): 1}, {frozenset({'Diapers', 'Bread', 'Milk'}): 1, frozenset({'Eggs', 'Bread', 'Milk'}): 1}]\n",
      "Support Data: {frozenset({'Milk'}): 0.8, frozenset({'Bread'}): 0.8, frozenset({'Diapers'}): 0.6, frozenset({'Bread', 'Milk'}): 0.6}\n"
     ]
    }
   ],
   "source": [
    "import numpy as np\n",
    "from itertools import combinations\n",
    "\n",
    "# Sample transaction data\n",
    "transactions = [\n",
    "    ['Milk', 'Bread'],\n",
    "    ['Bread', 'Diapers'],\n",
    "    ['Milk', 'Diapers'],\n",
    "    ['Bread', 'Milk', 'Diapers'],\n",
    "    ['Milk', 'Bread', 'Eggs'],\n",
    "]\n",
    "\n",
    "def create_c1(transactions):\n",
    "    c1 = []\n",
    "    for transaction in transactions:\n",
    "        for item in transaction:\n",
    "            if [item] not in c1:\n",
    "                c1.append([item])\n",
    "    return list(map(frozenset, c1))\n",
    "\n",
    "def scan_d(transactions, candidates, min_support):\n",
    "    item_count = {}\n",
    "    for transaction in transactions:\n",
    "        for candidate in candidates:\n",
    "            if candidate.issubset(transaction):\n",
    "                if candidate not in item_count:\n",
    "                    item_count[candidate] = 1\n",
    "                else:\n",
    "                    item_count[candidate] += 1\n",
    "    num_items = float(len(transactions))\n",
    "    return (item_count, {k: v / num_items for k, v in item_count.items() if v / num_items >= min_support})\n",
    "\n",
    "def apriori(transactions, min_support=0.5):\n",
    "    c1 = create_c1(transactions)\n",
    "    freq_set, support_data = scan_d(transactions, c1, min_support)\n",
    "    freq_sets = [freq_set]\n",
    "    k = 2\n",
    "    while freq_set:\n",
    "        candidates = list(map(lambda x: frozenset(x), combinations(set().union(*freq_set), k)))\n",
    "        freq_set, support_k = scan_d(transactions, candidates, min_support)\n",
    "        if freq_set:\n",
    "            support_data.update(support_k)\n",
    "            freq_sets.append(freq_set)\n",
    "        k += 1\n",
    "    return freq_sets, support_data\n",
    "\n",
    "# Running Apriori\n",
    "frequent_itemsets, support_data = apriori(transactions, min_support=0.5)\n",
    "print(\"Frequent Itemsets:\", frequent_itemsets)\n",
    "print(\"Support Data:\", support_data)\n"
   ]
  },
  {
   "cell_type": "markdown",
   "metadata": {},
   "source": [
    "#### When to Use Association Rule Learning and When Not to Use It\n",
    "#### When to Use:\n",
    "\n",
    "- When you have transactional data, such as purchase histories.\n",
    "- When the goal is to uncover hidden relationships between items.\n",
    "- When building recommendation systems.\n",
    "\n",
    "#### When Not to Use:\n",
    "\n",
    "- When dealing with large datasets where computational cost is a concern (can be computationally expensive).\n",
    "- When the relationships are more complex and require deeper analysis (e.g., sequential patterns).\n",
    "\n",
    "#### What is the Loss Function?\n",
    "Association Rule Learning does not have a conventional loss function like supervised learning. Instead, it uses measures like:\n",
    "\n",
    "- Support: The proportion of transactions that contain a specific itemset.\n",
    "- Confidence: The likelihood that an item appears in a transaction given that another item is present.\n",
    "- Lift: The ratio of the observed support to that expected if the two items were independent.\n",
    "\n",
    "#### How to Optimize the Algorithm\n",
    "- Transaction Reduction: Reduce the dataset size by removing infrequent items before analysis.\n",
    "- Efficient Data Structures: Use hash trees to store candidate itemsets for faster access.\n",
    "- Parallel Processing: Implement parallel computing to speed up the support counting phase.\n",
    "\n",
    "#### What Else Should I Know About Association Rule Learning?\n",
    "- Interpretability: Association rules are generally easy to interpret but may not indicate causation.\n",
    "- Scalability: The algorithms can become inefficient with large datasets; consider using more efficient algorithms like FP-Growth.\n",
    "- Parameter Sensitivity: The results can vary significantly based on the chosen support and confidence thresholds."
   ]
  },
  {
   "cell_type": "markdown",
   "metadata": {},
   "source": []
  },
  {
   "cell_type": "markdown",
   "metadata": {},
   "source": [
    "A popular package for Association Rule Learning in Python is mlxtend. It provides implementations of the Apriori and FP-Growth algorithms, which are well-suited for market basket analysis and other association rule mining tasks. Let’s experiment with a real-world dataset using this package.\n",
    "\n",
    "#### Installation\n",
    "To install mlxtend, use the following command:\n",
    "```bash\n",
    "pip install mlxtend\n",
    "```\n",
    "\n",
    "#### Dataset\n",
    "For experimentation, the Groceries dataset from Kaggle or a similar transactional dataset can be used. Get data here: https://www.kaggle.com/datasets/heeraldedhia/groceries-dataset\n",
    "\n",
    "#### Steps\n",
    "- Load the Dataset: Convert transactions into the required format.\n",
    "- Generate Frequent Itemsets: Using the Apriori algorithm.\n",
    "- Extract Association Rules: Calculate rules based on minimum confidence and lift thresholds.\n",
    "\n",
    "#### Example Code"
   ]
  },
  {
   "cell_type": "code",
   "execution_count": null,
   "metadata": {},
   "outputs": [],
   "source": [
    "import pandas as pd\n",
    "from mlxtend.frequent_patterns import apriori, association_rules\n",
    "\n",
    "# Load dataset\n",
    "# For example, let's use a sample 'Groceries.csv' where each row represents a transaction\n",
    "# Replace 'Groceries.csv' with your own transactional data file path\n",
    "df = pd.read_csv('Groceries.csv')\n",
    "\n",
    "# Sample preprocessing\n",
    "# Convert dataset into one-hot encoded format required by Apriori\n",
    "basket = df.groupby(['Transaction', 'Item'])['Item'].count().unstack().fillna(0)\n",
    "basket = basket.applymap(lambda x: 1 if x > 0 else 0)\n",
    "\n",
    "# Generate frequent itemsets\n",
    "frequent_itemsets = apriori(basket, min_support=0.01, use_colnames=True)\n",
    "\n",
    "# Extract association rules\n",
    "rules = association_rules(frequent_itemsets, metric=\"confidence\", min_threshold=0.2)\n",
    "\n",
    "# Display results\n",
    "print(\"Frequent Itemsets:\\n\", frequent_itemsets)\n",
    "print(\"\\nAssociation Rules:\\n\", rules.head())\n"
   ]
  },
  {
   "cell_type": "markdown",
   "metadata": {},
   "source": [
    "#### Explanation\n",
    "- Dataset Format: Each transaction is transformed into a one-hot encoded format.\n",
    "- apriori(): Finds frequent itemsets that meet the min_support threshold.\n",
    "- association_rules(): Derives rules using confidence and other metrics.\n",
    "\n",
    "#### Tips for Real-World Data\n",
    "- Adjust Support/Confidence: Lower thresholds help find less frequent, potentially valuable rules.\n",
    "- Data Preprocessing: Ensure that data is clean and organized in a one-hot encoded format.\n",
    "- Experiment with Metrics: Use lift, leverage, and conviction as additional metrics for filtering rules.\n"
   ]
  },
  {
   "cell_type": "markdown",
   "metadata": {},
   "source": [
    "Apache Spark provides a built-in library for performing Association Rule Learning through its MLlib library. You can use the FP-Growth algorithm, which is often more efficient than the Apriori algorithm for larger datasets. Here’s how you can perform Association Rule Learning using PySpark.\n",
    "\n",
    "#### Setting Up PySpark\n",
    "First, make sure you have PySpark installed. Using a container might be the best"
   ]
  },
  {
   "cell_type": "markdown",
   "metadata": {},
   "source": [
    "#### Example Code Using PySpark\n",
    "Here’s an example of how to implement Association Rule Learning using the FP-Growth algorithm in PySpark.\n",
    "\n",
    "- Start a Spark Session.\n",
    "- Load the Dataset.\n",
    "- Transform Data.\n",
    "- Apply FP-Growth.\n",
    "- Extract Association Rules."
   ]
  },
  {
   "cell_type": "code",
   "execution_count": null,
   "metadata": {},
   "outputs": [],
   "source": [
    "from pyspark.sql import SparkSession\n",
    "from pyspark.ml.fpm import FPGrowth\n",
    "\n",
    "# Start Spark session\n",
    "spark = SparkSession.builder \\\n",
    "    .appName(\"AssociationRuleLearning\") \\\n",
    "    .getOrCreate()\n",
    "\n",
    "# Load dataset\n",
    "# Assuming the dataset is in a CSV format, with a 'Transaction' and 'Item' column\n",
    "# Replace 'groceries.csv' with the path to your dataset\n",
    "data = spark.read.csv('groceries.csv', header=True)\n",
    "\n",
    "# Prepare data for FP-Growth\n",
    "# Group items by transaction\n",
    "transactions = data.groupBy(\"Transaction\").agg(collect_list(\"Item\").alias(\"items\"))\n",
    "\n",
    "# Create FP-Growth model\n",
    "fp_growth = FPGrowth(itemsCol=\"items\", minSupport=0.01, minConfidence=0.2)\n",
    "\n",
    "# Fit the model\n",
    "model = fp_growth.fit(transactions)\n",
    "\n",
    "# Display frequent itemsets\n",
    "print(\"Frequent Itemsets:\")\n",
    "model.freqItemsets.show(truncate=False)\n",
    "\n",
    "# Display association rules\n",
    "print(\"Association Rules:\")\n",
    "model.associationRules.show(truncate=False)\n",
    "\n",
    "# Stop the Spark session\n",
    "spark.stop()\n"
   ]
  },
  {
   "cell_type": "markdown",
   "metadata": {},
   "source": [
    "#### Submitting as a Spark Job\n",
    "If you want to run the above code as a Spark job using spark-submit, save the code in a Python script (e.g., association_rule_learning.py). You can submit the job using:\n",
    "\n",
    "```bash\n",
    "spark-submit association_rule_learning.py\n",
    "```"
   ]
  },
  {
   "cell_type": "markdown",
   "metadata": {},
   "source": []
  }
 ],
 "metadata": {
  "kernelspec": {
   "display_name": "cv",
   "language": "python",
   "name": "python3"
  },
  "language_info": {
   "codemirror_mode": {
    "name": "ipython",
    "version": 3
   },
   "file_extension": ".py",
   "mimetype": "text/x-python",
   "name": "python",
   "nbconvert_exporter": "python",
   "pygments_lexer": "ipython3",
   "version": "3.10.13"
  }
 },
 "nbformat": 4,
 "nbformat_minor": 2
}
