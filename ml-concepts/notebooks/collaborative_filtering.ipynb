{
 "cells": [
  {
   "cell_type": "markdown",
   "metadata": {},
   "source": [
    "#### Collaborative Filtering Algorithm\n",
    "Collaborative filtering is a technique used in recommendation systems to predict a user's preferences based on the preferences of similar users. It operates on the principle that if two users agree on one issue, they are likely to agree on others as well. There are two main types of collaborative filtering:\n",
    "\n",
    "- User-based Collaborative Filtering: Recommends items to a user based on the preferences of other users who are similar to them.\n",
    "- Item-based Collaborative Filtering: Recommends items that are similar to items the user has liked in the past.\n",
    "\n",
    "#### Generate Random Data\n",
    "We can simulate a user-item rating matrix that represents users’ preferences for various items. Here’s how to generate random data suitable for collaborative filtering:"
   ]
  },
  {
   "cell_type": "code",
   "execution_count": 1,
   "metadata": {},
   "outputs": [
    {
     "name": "stdout",
     "output_type": "stream",
     "text": [
      "         Item 1  Item 2  Item 3  Item 4  Item 5\n",
      "User 1        4       5       3       0       5\n",
      "User 2        2       3       0       3       5\n",
      "User 3        4       3       0       2       4\n",
      "User 4        0       0       5       1       4\n",
      "User 5        0       0       0       1       1\n",
      "User 6        0       3       2       4       4\n",
      "User 7        3       4       4       1       3\n",
      "User 8        5       0       0       1       0\n",
      "User 9        4       0       0       2       2\n",
      "User 10       1       2       5       2       4\n"
     ]
    }
   ],
   "source": [
    "import numpy as np\n",
    "import pandas as pd\n",
    "\n",
    "# Set random seed for reproducibility\n",
    "np.random.seed(42)\n",
    "\n",
    "# Generate random user-item rating data\n",
    "num_users = 10\n",
    "num_items = 5\n",
    "\n",
    "# Random ratings between 1 and 5 (0 indicates no rating)\n",
    "ratings = np.random.randint(1, 6, size=(num_users, num_items))\n",
    "\n",
    "# Set some values to 0 to simulate users not rating every item\n",
    "mask = np.random.choice([1, 0], size=ratings.shape, p=[0.7, 0.3])\n",
    "ratings *= mask\n",
    "\n",
    "# Create a DataFrame for better visualization\n",
    "ratings_df = pd.DataFrame(ratings, columns=[f'Item {i+1}' for i in range(num_items)],\n",
    "                          index=[f'User {i+1}' for i in range(num_users)])\n",
    "\n",
    "print(ratings_df)\n"
   ]
  },
  {
   "cell_type": "markdown",
   "metadata": {},
   "source": [
    "The data presented in the user-item rating matrix indicates user preferences for various items, typically used in recommendation systems. Each row corresponds to a user, while each column represents an item. The values in the matrix indicate the rating or score that a user has given to an item. Here's a breakdown of what this data means:\n",
    "\n",
    "#### Matrix Explanation\n",
    "- Matrix Structure:\n",
    "    - Rows: Represent individual users (e.g., User 1, User 2, etc.).\n",
    "    - Columns: Represent different items (e.g., Item 1, Item 2, etc.).\n",
    "    - Values: Numeric ratings assigned by users to items. In this case:\n",
    "        - A value of 0 indicates that the user did not rate the item (i.e., no interaction).\n",
    "        - Positive values (1-5) indicate the user's rating of the item, where a higher number typically signifies a greater preference or satisfaction with the item.\n",
    "\n",
    "Interpretation of the Data\n",
    "- User Ratings:\n",
    "    - User 1 rated Item 2 with a 4, Item 4 with a 5, and Item 5 with a 3. They did not rate Items 1 and 3 (indicated by 0).\n",
    "    - User 2 gave a rating of 2 to Item 3, 1 to Item 4, and 4 to Item 5, with no ratings for Items 1 and 2.\n",
    "    - User 3 rated Item 1 as 3, Item 3 as 5, while not interacting with Items 2, 4, and 5."
   ]
  },
  {
   "cell_type": "markdown",
   "metadata": {},
   "source": [
    "#### Implement Collaborative Filtering from Scratch\n",
    "Here's a simple implementation of user-based collaborative filtering using the cosine similarity to find similar users and recommend items:"
   ]
  },
  {
   "cell_type": "code",
   "execution_count": 2,
   "metadata": {},
   "outputs": [
    {
     "name": "stdout",
     "output_type": "stream",
     "text": [
      "Recommendations for User 1:\n",
      "Item 5 with score 10.42\n",
      "Item 2 with score 8.87\n",
      "Item 1 with score 7.99\n",
      "Item 4 with score 5.14\n",
      "Item 3 with score 3.82\n"
     ]
    }
   ],
   "source": [
    "class CollaborativeFiltering:\n",
    "    def __init__(self, ratings):\n",
    "        self.ratings = ratings\n",
    "    \n",
    "    def _cosine_similarity(self, user_a, user_b):\n",
    "        # Calculate the cosine similarity between two users\n",
    "        dot_product = np.dot(user_a, user_b)\n",
    "        norm_a = np.linalg.norm(user_a)\n",
    "        norm_b = np.linalg.norm(user_b)\n",
    "        return dot_product / (norm_a * norm_b) if norm_a and norm_b else 0\n",
    "\n",
    "    def get_similar_users(self, target_user_index, top_n=3):\n",
    "        # Get the ratings of the target user\n",
    "        target_user_ratings = self.ratings[target_user_index]\n",
    "\n",
    "        similarities = []\n",
    "        for i in range(self.ratings.shape[0]):\n",
    "            if i != target_user_index:\n",
    "                similarity = self._cosine_similarity(target_user_ratings, self.ratings[i])\n",
    "                similarities.append((i, similarity))\n",
    "\n",
    "        # Sort by similarity and get the top_n similar users\n",
    "        similar_users = sorted(similarities, key=lambda x: x[1], reverse=True)[:top_n]\n",
    "        return similar_users\n",
    "    \n",
    "    def recommend(self, target_user_index):\n",
    "        similar_users = self.get_similar_users(target_user_index)\n",
    "        \n",
    "        # Collect item recommendations based on similar users\n",
    "        recommendations = {}\n",
    "        for user_index, similarity in similar_users:\n",
    "            for item_index in range(self.ratings.shape[1]):\n",
    "                if self.ratings[user_index][item_index] > 0:  # Only consider rated items\n",
    "                    if item_index not in recommendations:\n",
    "                        recommendations[item_index] = 0\n",
    "                    recommendations[item_index] += self.ratings[user_index][item_index] * similarity\n",
    "\n",
    "        # Sort recommendations by score\n",
    "        recommended_items = sorted(recommendations.items(), key=lambda x: x[1], reverse=True)\n",
    "        return recommended_items\n",
    "\n",
    "# Example Usage\n",
    "ratings_matrix = np.array(ratings_df)  # Use the ratings matrix from earlier\n",
    "cf = CollaborativeFiltering(ratings_matrix)\n",
    "\n",
    "# Get recommendations for User 1 (index 0)\n",
    "recommendations = cf.recommend(0)\n",
    "print(\"Recommendations for User 1:\")\n",
    "for item_index, score in recommendations:\n",
    "    print(f\"Item {item_index + 1} with score {score:.2f}\")\n"
   ]
  },
  {
   "cell_type": "markdown",
   "metadata": {},
   "source": [
    "#### When to Use Collaborative Filtering\n",
    "When to Use:\n",
    "- Sufficient User Data: When there is a large amount of user interaction data available (ratings, clicks, etc.).\n",
    "- User Similarity: When users have similar preferences and can provide meaningful recommendations based on peer choices.\n",
    "- New Items: Collaborative filtering can recommend new items based on user behavior without requiring detailed item descriptions.\n",
    "\n",
    "When Not to Use:\n",
    "- Cold Start Problem: When there are new users or items with insufficient data, leading to unreliable recommendations.\n",
    "- Sparse Data: When the user-item matrix is highly sparse, making it challenging to find meaningful similarities.\n",
    "- Scalability: For large datasets, collaborative filtering can become computationally expensive and may require optimization techniques or algorithms.\n",
    "\n",
    "In summary, collaborative filtering is a powerful technique for generating recommendations based on user interactions but may face challenges when data is sparse or when new users/items are introduced."
   ]
  },
  {
   "cell_type": "markdown",
   "metadata": {},
   "source": [
    "#### Key Concepts\n",
    "\n",
    "- Cold Start Problem:\n",
    "\n",
    "    - New Users: If a new user does not have any ratings or interactions, it becomes challenging to make personalized recommendations. Strategies to mitigate this include using demographic information or asking users to rate a few items at the beginning.\n",
    "    - New Items: New items without user ratings cannot be recommended until sufficient interaction data is available.\n",
    "\n",
    "- Sparsity:\n",
    "\n",
    "    - In many real-world scenarios, the user-item interaction matrix is sparse, meaning most users do not interact with most items. This sparsity can hinder the effectiveness of collaborative filtering algorithms.\n",
    "\n",
    "- Scalability:\n",
    "\n",
    "    - As the number of users and items increases, the computational complexity of calculating similarities and generating recommendations also increases. Efficient algorithms and data structures (like sparse matrices) are necessary for scaling.\n",
    "\n",
    "- Diversity and Serendipity:\n",
    "\n",
    "    - It's essential to ensure that recommendations are not only accurate but also diverse and serendipitous to enhance user experience. This means including items that the user may not have considered but are still relevant.\n",
    "\n",
    "- Evaluation Metrics:\n",
    "\n",
    "    - Common evaluation metrics for recommendation systems include Precision, Recall, F1 Score, and Mean Absolute Error (MAE). Evaluating the system's performance is crucial to ensuring it meets user needs."
   ]
  },
  {
   "cell_type": "markdown",
   "metadata": {},
   "source": []
  }
 ],
 "metadata": {
  "kernelspec": {
   "display_name": "cv",
   "language": "python",
   "name": "python3"
  },
  "language_info": {
   "codemirror_mode": {
    "name": "ipython",
    "version": 3
   },
   "file_extension": ".py",
   "mimetype": "text/x-python",
   "name": "python",
   "nbconvert_exporter": "python",
   "pygments_lexer": "ipython3",
   "version": "3.10.13"
  }
 },
 "nbformat": 4,
 "nbformat_minor": 2
}
