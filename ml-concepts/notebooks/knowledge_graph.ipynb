{
 "cells": [
  {
   "cell_type": "markdown",
   "metadata": {},
   "source": [
    "A knowledge graph represents semantic relationships between entities, with nodes representing entities like objects, people, or places, and edges defining their relationships, such as \"Ottawa\" being the \"capital\" of \"Canada.\" These graphs are used by virtual assistants to answer queries and can model diverse relationships, such as movies and actors or recipes and ingredients. By integrating data from multiple sources, like census data and online reviews, knowledge graphs infer facts more accurately, such as estimating the number of Chinese restaurants in New York. Built using Natural Language Processing (NLP) through semantic enrichment, they transform unstructured text into structured knowledge. Commercially, knowledge graphs power recommendation systems (e.g., YouTube videos or retail product pairings), detect fraudulent insurance claims, and improve product recommendations. The transcript concludes with a simple, humorous graph illustrating \"human,\" \"coffee,\" and \"sleep,\" where \"human consumes coffee,\" \"human needs sleep,\" and \"coffee prevents sleep,\" advising against caffeine after 5 PM."
   ]
  },
  {
   "cell_type": "markdown",
   "metadata": {},
   "source": []
  }
 ],
 "metadata": {
  "language_info": {
   "name": "python"
  }
 },
 "nbformat": 4,
 "nbformat_minor": 2
}
