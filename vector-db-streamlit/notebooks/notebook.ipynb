{
 "cells": [
  {
   "cell_type": "code",
   "execution_count": 2,
   "metadata": {
    "vscode": {
     "languageId": "plaintext"
    }
   },
   "outputs": [
    {
     "name": "stdout",
     "output_type": "stream",
     "text": [
      "['What is your favorite product?', 'What is your favorite product?']\n"
     ]
    }
   ],
   "source": [
    "import ssl\n",
    "# Bypass SSL verification\n",
    "ssl._create_default_https_context = ssl._create_unverified_context\n",
    "import os\n",
    "os.environ['CURL_CA_BUNDLE'] = ''\n",
    "\n",
    "import weaviate\n",
    "import numpy as np\n",
    "from sentence_transformers import SentenceTransformer\n",
    "import numpy as np\n",
    "from sklearn.metrics.pairwise import cosine_similarity\n",
    "\n",
    "\n",
    "# Connect to Weaviate\n",
    "client = weaviate.Client(\"http://weaviate:8080\")\n",
    "\n",
    "# Load Sentence Transformer Model for Embeddings\n",
    "model = SentenceTransformer('sentence-transformers/all-MiniLM-L6-v2')\n",
    "\n",
    "# Function to insert a question\n",
    "def insert_question(question_text):\n",
    "    embedding = model.encode([question_text]).tolist()[0]\n",
    "    question_object = {\n",
    "        \"text\": question_text,\n",
    "        \"embedding\": embedding\n",
    "    }\n",
    "    client.data_object.create(question_object, \"Question\")\n",
    "\n",
    "# Function to query for similar questions\n",
    "def fetch_similar_questions(question_text, threshold=0.8):\n",
    "    input_embedding = model.encode([question_text])\n",
    "    \n",
    "    query = client.query.get(\"Question\", [\"text\", \"embedding\"]).do()\n",
    "    questions = query['data']['Get']['Question']\n",
    "    \n",
    "    similar_questions = []\n",
    "    for question in questions:\n",
    "        question_embedding = np.array(question['embedding']).reshape(1, -1)\n",
    "        similarity = cosine_similarity(input_embedding, question_embedding)[0][0]\n",
    "        if similarity >= threshold:\n",
    "            similar_questions.append(question['text'])\n",
    "    \n",
    "    return similar_questions\n",
    "\n",
    "# Insert and fetch questions\n",
    "insert_question(\"What is your favorite product?\")\n",
    "print(fetch_similar_questions(\"What's your favorite product and why?\"))\n"
   ]
  },
  {
   "cell_type": "code",
   "execution_count": null,
   "metadata": {},
   "outputs": [],
   "source": []
  },
  {
   "cell_type": "code",
   "execution_count": null,
   "metadata": {},
   "outputs": [],
   "source": []
  }
 ],
 "metadata": {
  "kernelspec": {
   "display_name": "Python 3 (ipykernel)",
   "language": "python",
   "name": "python3"
  },
  "language_info": {
   "codemirror_mode": {
    "name": "ipython",
    "version": 3
   },
   "file_extension": ".py",
   "mimetype": "text/x-python",
   "name": "python",
   "nbconvert_exporter": "python",
   "pygments_lexer": "ipython3",
   "version": "3.11.6"
  }
 },
 "nbformat": 4,
 "nbformat_minor": 4
}
