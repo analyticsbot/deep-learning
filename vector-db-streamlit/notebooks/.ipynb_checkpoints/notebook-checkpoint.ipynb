{
 "cells": [
  {
   "cell_type": "code",
   "execution_count": null,
   "metadata": {
    "vscode": {
     "languageId": "plaintext"
    }
   },
   "outputs": [],
   "source": [
    "import weaviate\n",
    "import numpy as np\n",
    "from sentence_transformers import SentenceTransformer\n",
    "\n",
    "# Connect to Weaviate\n",
    "client = weaviate.Client(\"http://weaviate:8080\")\n",
    "\n",
    "# Load Sentence Transformer Model for Embeddings\n",
    "model = SentenceTransformer('sentence-transformers/all-MiniLM-L6-v2')\n",
    "\n",
    "# Function to insert a question\n",
    "def insert_question(question_text):\n",
    "    embedding = model.encode([question_text]).tolist()[0]\n",
    "    question_object = {\n",
    "        \"text\": question_text,\n",
    "        \"embedding\": embedding\n",
    "    }\n",
    "    client.data_object.create(question_object, \"Question\")\n",
    "\n",
    "# Function to query for similar questions\n",
    "def fetch_similar_questions(question_text, threshold=0.8):\n",
    "    input_embedding = model.encode([question_text])\n",
    "    \n",
    "    query = client.query.get(\"Question\", [\"text\", \"embedding\"]).do()\n",
    "    questions = query['data']['Get']['Question']\n",
    "    \n",
    "    similar_questions = []\n",
    "    for question in questions:\n",
    "        question_embedding = np.array(question['embedding']).reshape(1, -1)\n",
    "        similarity = cosine_similarity(input_embedding, question_embedding)[0][0]\n",
    "        if similarity >= threshold:\n",
    "            similar_questions.append(question['text'])\n",
    "    \n",
    "    return similar_questions\n",
    "\n",
    "# Insert and fetch questions\n",
    "insert_question(\"What is your favorite product?\")\n",
    "print(fetch_similar_questions(\"What's your favorite product and why?\"))\n"
   ]
  }
 ],
 "metadata": {
  "language_info": {
   "name": "python"
  }
 },
 "nbformat": 4,
 "nbformat_minor": 2
}
